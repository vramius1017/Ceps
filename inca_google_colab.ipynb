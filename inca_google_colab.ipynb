{
  "nbformat": 4,
  "nbformat_minor": 0,
  "metadata": {
    "colab": {
      "name": "inca_google_colab.ipynb",
      "provenance": [],
      "collapsed_sections": [],
      "authorship_tag": "ABX9TyPc6LREW/oNvR/5eRX0I8rn",
      "include_colab_link": true
    },
    "kernelspec": {
      "name": "python3",
      "display_name": "Python 3"
    },
    "language_info": {
      "name": "python"
    }
  },
  "cells": [
    {
      "cell_type": "markdown",
      "metadata": {
        "id": "view-in-github",
        "colab_type": "text"
      },
      "source": [
        "<a href=\"https://colab.research.google.com/github/vramius1017/Ceps/blob/main/inca_google_colab.ipynb\" target=\"_parent\"><img src=\"https://colab.research.google.com/assets/colab-badge.svg\" alt=\"Open In Colab\"/></a>"
      ]
    },
    {
      "cell_type": "code",
      "execution_count": 3,
      "metadata": {
        "id": "p0yyydm6Mark"
      },
      "outputs": [],
      "source": [
        "## test code pour application inca \n",
        "\n",
        "# 1. fetch requete biopython"
      ]
    },
    {
      "cell_type": "code",
      "source": [
        "!pip install biopython"
      ],
      "metadata": {
        "colab": {
          "base_uri": "https://localhost:8080/"
        },
        "id": "iJh8ddJ6OoGo",
        "outputId": "e41a755d-a05c-4a9b-faec-0de916ccd039"
      },
      "execution_count": 4,
      "outputs": [
        {
          "output_type": "stream",
          "name": "stdout",
          "text": [
            "Collecting biopython\n",
            "  Downloading biopython-1.79-cp37-cp37m-manylinux_2_5_x86_64.manylinux1_x86_64.whl (2.3 MB)\n",
            "\u001b[K     |████████████████████████████████| 2.3 MB 14.9 MB/s \n",
            "\u001b[?25hRequirement already satisfied: numpy in /usr/local/lib/python3.7/dist-packages (from biopython) (1.19.5)\n",
            "Installing collected packages: biopython\n",
            "Successfully installed biopython-1.79\n"
          ]
        }
      ]
    },
    {
      "cell_type": "code",
      "source": [
        "# code de fetch clean \n",
        "\n",
        "from Bio import Entrez\n",
        "from Bio import Medline\n",
        "\n",
        "\n",
        "def clean_data(x):\n",
        "    chaine = str(x)\n",
        "    chaine = chaine.replace(\"['\",\" \")\n",
        "    chaine = chaine.replace(\"']\",\" \")\n",
        "    chaine = chaine.replace(\"'\",\" \")\n",
        "    return chaine\n",
        "\n",
        "\n",
        "def clean_a(x):\n",
        "    chaine = str(x)\n",
        "    chaine = chaine.replace(\"/\",\"\")\n",
        "    chaine = chaine.replace(\"*\",\" \")\n",
        "    return chaine\n",
        "\n",
        "def clean_date(x):\n",
        "    import datetime\n",
        "    md = datetime.datetime.strptime(x,\"%Y%m%d\").date()\n",
        "    return md\n",
        "\n",
        "def ConPub():\n",
        "    Entrez.api_key = \"41843b992ded592334c39fe437c425e40608\"\n",
        "    Entrez.email = \"sacha.torres@univ_montp3.fr\"\n",
        "    Entrez.tool = \"Inca\"\n",
        "    print(\"connexion active !!!\")\n",
        "\n",
        "def Query():\n",
        "    p = input(\"query pubmed :\")\n",
        "    pq = p + \" \"+\"and Cochrane Database Syst Rev\"\n",
        "    return pq\n",
        "\n",
        "def CorQuPub(q):\n",
        "    han = Entrez.espell(term=q)\n",
        "    rea = Entrez.read(han)\n",
        "    return rea[\"CorrectedQuery\"]\n",
        "\n",
        "def MetaList(q):\n",
        "    hend = Entrez.esearch(db=\"pubmed\",term=q)\n",
        "    ret = Entrez.read(hend)\n",
        "    return ret[\"IdList\"]\n",
        "\n",
        "def MetaCount(q):\n",
        "    hand = Entrez.esearch(db=\"pubmed\",term=q)\n",
        "    rec = Entrez.read(hand)\n",
        "    return rec[\"Count\"]\n",
        "\n",
        "def FetchIdList(ids):\n",
        "    handle = Entrez.efetch(db=\"pubmed\",id=ids,rettype=\"medline\",retmode=\"text\")\n",
        "    record = Medline.parse(handle)\n",
        "    return record\n",
        "\n",
        "\n",
        "ConPub()"
      ],
      "metadata": {
        "colab": {
          "base_uri": "https://localhost:8080/"
        },
        "id": "8V-nJ1wWNQTU",
        "outputId": "aa3b14bf-c67c-41c3-faa1-de7a778b64cf"
      },
      "execution_count": 5,
      "outputs": [
        {
          "output_type": "stream",
          "name": "stdout",
          "text": [
            "connexion active !!!\n"
          ]
        }
      ]
    },
    {
      "cell_type": "code",
      "source": [
        "q = Query()\n",
        "ids = MetaList(q)\n",
        "a = MetaCount(q)\n",
        "result = FetchIdList(ids)\n",
        "print(result)\n",
        "print(\" \")\n",
        "\n",
        "# PMID , LID , TI , FAU, AB SO **"
      ],
      "metadata": {
        "colab": {
          "base_uri": "https://localhost:8080/"
        },
        "collapsed": true,
        "id": "So9maTONO4WX",
        "outputId": "7a1f3555-6e9c-475d-dbbf-0e5b25f19d58"
      },
      "execution_count": 6,
      "outputs": [
        {
          "output_type": "stream",
          "name": "stdout",
          "text": [
            "query pubmed :neoplasms and green tea\n",
            "<generator object parse at 0x7fcd35f78c50>\n",
            " \n"
          ]
        }
      ]
    },
    {
      "cell_type": "code",
      "source": [
        "import pandas as pd\n",
        "q = Query()\n",
        "ids = MetaList(q)\n",
        "a = MetaCount(q)\n",
        "s1 = []\n",
        "s2 = []\n",
        "s3 = []\n",
        "\n",
        "for res in result:  \n",
        "  for i in range(1,int(a)):\n",
        "    s1.append(res['PMID'])\n",
        "    s2.append(res['TI'])\n",
        "    s3.append(res['FAU'])\n",
        "\n",
        "serie1 = pd.Series(s1,dtype='int')\n",
        "serie2 = pd.Series(s2,dtype='string')\n",
        "serie3 = pd.Series(s3,dtype='string')\n",
        "\n",
        "df = pd.DataFrame(list(zip([serie1,serie2,serie3])),columns = ['pmid','titre','auteurs'])\n",
        "df.info()\n",
        "\"\"\"\n",
        "print(type(s1))\n",
        "print(s1)\n",
        "print(s2)\n",
        "\n",
        "print(s3)\n",
        "\"\"\""
      ],
      "metadata": {
        "colab": {
          "base_uri": "https://localhost:8080/",
          "height": 191
        },
        "id": "PgRBWgOknNFQ",
        "outputId": "b8ab8968-4e16-41c4-da60-faf23d340e00"
      },
      "execution_count": 13,
      "outputs": [
        {
          "output_type": "stream",
          "name": "stdout",
          "text": [
            "query pubmed :neoplasms and green tea \n",
            "<class 'pandas.core.frame.DataFrame'>\n",
            "RangeIndex: 3 entries, 0 to 2\n",
            "Data columns (total 1 columns):\n",
            " #   Column  Non-Null Count  Dtype\n",
            "---  ------  --------------  -----\n",
            " 0   index   3 non-null      int64\n",
            "dtypes: int64(1)\n",
            "memory usage: 152.0 bytes\n"
          ]
        },
        {
          "output_type": "execute_result",
          "data": {
            "application/vnd.google.colaboratory.intrinsic+json": {
              "type": "string"
            },
            "text/plain": [
              "'\\nprint(type(s1))\\nprint(s1)\\nprint(s2)\\n\\nprint(s3)\\n'"
            ]
          },
          "metadata": {},
          "execution_count": 13
        }
      ]
    },
    {
      "cell_type": "markdown",
      "source": [
        ""
      ],
      "metadata": {
        "id": "i_RmZ2eaMbr-"
      }
    }
  ]
}