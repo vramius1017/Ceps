{
  "nbformat": 4,
  "nbformat_minor": 0,
  "metadata": {
    "colab": {
      "name": "inca_google_colab.ipynb",
      "provenance": [],
      "authorship_tag": "ABX9TyN7C24T06CLnTsYQl0+YWe8",
      "include_colab_link": true
    },
    "kernelspec": {
      "name": "python3",
      "display_name": "Python 3"
    },
    "language_info": {
      "name": "python"
    }
  },
  "cells": [
    {
      "cell_type": "markdown",
      "metadata": {
        "id": "view-in-github",
        "colab_type": "text"
      },
      "source": [
        "<a href=\"https://colab.research.google.com/github/vramius1017/Ceps/blob/main/inca_google_colab.ipynb\" target=\"_parent\"><img src=\"https://colab.research.google.com/assets/colab-badge.svg\" alt=\"Open In Colab\"/></a>"
      ]
    },
    {
      "cell_type": "code",
      "execution_count": 1,
      "metadata": {
        "id": "p0yyydm6Mark"
      },
      "outputs": [],
      "source": [
        "## test code pour application inca \n",
        "\n",
        "# 1. fetch requete biopython"
      ]
    },
    {
      "cell_type": "code",
      "source": [
        "!pip install biopython"
      ],
      "metadata": {
        "colab": {
          "base_uri": "https://localhost:8080/"
        },
        "id": "iJh8ddJ6OoGo",
        "outputId": "99141a50-aec5-42c8-d7ba-3414801d9c38"
      },
      "execution_count": 3,
      "outputs": [
        {
          "output_type": "stream",
          "name": "stdout",
          "text": [
            "Collecting biopython\n",
            "  Downloading biopython-1.79-cp37-cp37m-manylinux_2_5_x86_64.manylinux1_x86_64.whl (2.3 MB)\n",
            "\u001b[K     |████████████████████████████████| 2.3 MB 5.3 MB/s \n",
            "\u001b[?25hRequirement already satisfied: numpy in /usr/local/lib/python3.7/dist-packages (from biopython) (1.19.5)\n",
            "Installing collected packages: biopython\n",
            "Successfully installed biopython-1.79\n"
          ]
        }
      ]
    },
    {
      "cell_type": "code",
      "source": [
        "# code de fetch clean \n",
        "\n",
        "from Bio import Entrez\n",
        "from Bio import Medline\n",
        "\n",
        "\n",
        "def clean_data(x):\n",
        "    chaine = str(x)\n",
        "    chaine = chaine.replace(\"['\",\" \")\n",
        "    chaine = chaine.replace(\"']\",\" \")\n",
        "    chaine = chaine.replace(\"'\",\" \")\n",
        "    return chaine\n",
        "\n",
        "\n",
        "def clean_a(x):\n",
        "    chaine = str(x)\n",
        "    chaine = chaine.replace(\"/\",\"\")\n",
        "    chaine = chaine.replace(\"*\",\" \")\n",
        "    return chaine\n",
        "\n",
        "def clean_date(x):\n",
        "    import datetime\n",
        "    md = datetime.datetime.strptime(x,\"%Y%m%d\").date()\n",
        "    return md\n",
        "\n",
        "def ConPub():\n",
        "    Entrez.api_key = \"41843b992ded592334c39fe437c425e40608\"\n",
        "    Entrez.email = \"sacha.torres@univ_montp3.fr\"\n",
        "    Entrez.tool = \"Inca\"\n",
        "    print(\"connexion active !!!\")\n",
        "\n",
        "def Query():\n",
        "    p = input(\"query pubmed :\")\n",
        "    pq = p + \" \"+\"and Cochrane Database Syst Rev\"\n",
        "    return pq\n",
        "\n",
        "def CorQuPub(q):\n",
        "    han = Entrez.espell(term=q)\n",
        "    rea = Entrez.read(han)\n",
        "    return rea[\"CorrectedQuery\"]\n",
        "\n",
        "def MetaList(q):\n",
        "    hend = Entrez.esearch(db=\"pubmed\",term=q)\n",
        "    ret = Entrez.read(hend)\n",
        "    return ret[\"IdList\"]\n",
        "\n",
        "def MetaCount(q):\n",
        "    hand = Entrez.esearch(db=\"pubmed\",term=q)\n",
        "    rec = Entrez.read(hand)\n",
        "    return rec[\"Count\"]\n",
        "\n",
        "def FetchIdList(ids):\n",
        "    handle = Entrez.efetch(db=\"pubmed\",id=ids,rettype=\"medline\",retmode=\"text\")\n",
        "    record = Medline.parse(handle)\n",
        "    return record\n",
        "\n",
        "\n",
        "ConPub()"
      ],
      "metadata": {
        "colab": {
          "base_uri": "https://localhost:8080/"
        },
        "id": "8V-nJ1wWNQTU",
        "outputId": "7457d935-696d-45ed-a5bc-911dcf93248f"
      },
      "execution_count": 6,
      "outputs": [
        {
          "output_type": "stream",
          "name": "stdout",
          "text": [
            "connexion active !!!\n"
          ]
        }
      ]
    },
    {
      "cell_type": "code",
      "source": [
        "q = Query()\n",
        "ids = MetaList(q)\n",
        "a = MetaCount(q)\n",
        "result = FetchIdList(ids)\n",
        "print(result)\n",
        "print(\" \")\n",
        "\n",
        "# PMID , LID , TI , FAU, AB SO **"
      ],
      "metadata": {
        "colab": {
          "base_uri": "https://localhost:8080/"
        },
        "collapsed": true,
        "id": "So9maTONO4WX",
        "outputId": "6babce73-e1b6-4690-f463-371f8d463144"
      },
      "execution_count": 49,
      "outputs": [
        {
          "output_type": "stream",
          "name": "stdout",
          "text": [
            "query pubmed :neoplasms and green tea\n",
            "<generator object parse at 0x7fbe4dce3450>\n",
            " \n"
          ]
        }
      ]
    },
    {
      "cell_type": "code",
      "source": [
        "import pandas as pd\n",
        "q = Query()\n",
        "ids = MetaList(q)\n",
        "a = MetaCount(q)\n",
        "s1 = []\n",
        "s2 = []\n",
        "s3 = []\n",
        "\"\"\"\n",
        "for res in result:\n",
        "  iden = res['PMID']\n",
        "  titre = res['TI']\n",
        "  auteurs = res['FAU']\n",
        "\"\"\"  \n",
        "for i in range(1,int(a)):\n",
        "  s1.append(res['PMID'])\n",
        "  s2.append(res['TI'])\n",
        "  s3.append(res['FAU'])\n",
        "\n",
        "serie1 = pd.Series(s1,dtype='int')\n",
        "serie2 = pd.Series(s2,dtype='string')\n",
        "serie3 = pd.Series(s3,dtype='string')\n",
        "\n",
        "df = pd.DataFrame('pmid':s1,'titre':s2,'auteurs':s3)\n",
        "df\n",
        "\"\"\"\n",
        "print(type(s1))\n",
        "print(s1)\n",
        "print(s2)\n",
        "print(s3)\n",
        "\"\"\""
      ],
      "metadata": {
        "colab": {
          "base_uri": "https://localhost:8080/",
          "height": 131
        },
        "id": "PgRBWgOknNFQ",
        "outputId": "fab27d64-0d34-4261-89bf-55208e5278b9"
      },
      "execution_count": 62,
      "outputs": [
        {
          "output_type": "error",
          "ename": "SyntaxError",
          "evalue": "ignored",
          "traceback": [
            "\u001b[0;36m  File \u001b[0;32m\"<ipython-input-62-00af06a716e4>\"\u001b[0;36m, line \u001b[0;32m23\u001b[0m\n\u001b[0;31m    df = pd.DataFrame('pmid':s1,'titre':s2,'auteurs':s3)\u001b[0m\n\u001b[0m                            ^\u001b[0m\n\u001b[0;31mSyntaxError\u001b[0m\u001b[0;31m:\u001b[0m invalid syntax\n"
          ]
        }
      ]
    },
    {
      "cell_type": "markdown",
      "source": [
        ""
      ],
      "metadata": {
        "id": "i_RmZ2eaMbr-"
      }
    }
  ]
}