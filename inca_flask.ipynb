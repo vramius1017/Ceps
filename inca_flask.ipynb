{
  "nbformat": 4,
  "nbformat_minor": 0,
  "metadata": {
    "colab": {
      "name": "inca_flask.ipynb",
      "provenance": [],
      "authorship_tag": "ABX9TyOMJ7o6EVSP8COef4N3avaM",
      "include_colab_link": true
    },
    "kernelspec": {
      "name": "python3",
      "display_name": "Python 3"
    },
    "language_info": {
      "name": "python"
    }
  },
  "cells": [
    {
      "cell_type": "markdown",
      "metadata": {
        "id": "view-in-github",
        "colab_type": "text"
      },
      "source": [
        "<a href=\"https://colab.research.google.com/github/vramius1017/Ceps/blob/main/inca_flask.ipynb\" target=\"_parent\"><img src=\"https://colab.research.google.com/assets/colab-badge.svg\" alt=\"Open In Colab\"/></a>"
      ]
    },
    {
      "cell_type": "code",
      "execution_count": 6,
      "metadata": {
        "colab": {
          "base_uri": "https://localhost:8080/"
        },
        "id": "1wxR4Oz50YA4",
        "outputId": "33788e58-b4d6-4588-a5c3-9f448533123f",
        "collapsed": true
      },
      "outputs": [
        {
          "output_type": "stream",
          "name": "stdout",
          "text": [
            "Requirement already satisfied: flask-ngrok in /usr/local/lib/python3.7/dist-packages (0.0.25)\n",
            "Requirement already satisfied: Flask>=0.8 in /usr/local/lib/python3.7/dist-packages (from flask-ngrok) (1.1.4)\n",
            "Requirement already satisfied: requests in /usr/local/lib/python3.7/dist-packages (from flask-ngrok) (2.23.0)\n",
            "Requirement already satisfied: Werkzeug<2.0,>=0.15 in /usr/local/lib/python3.7/dist-packages (from Flask>=0.8->flask-ngrok) (1.0.1)\n",
            "Requirement already satisfied: itsdangerous<2.0,>=0.24 in /usr/local/lib/python3.7/dist-packages (from Flask>=0.8->flask-ngrok) (1.1.0)\n",
            "Requirement already satisfied: click<8.0,>=5.1 in /usr/local/lib/python3.7/dist-packages (from Flask>=0.8->flask-ngrok) (7.1.2)\n",
            "Requirement already satisfied: Jinja2<3.0,>=2.10.1 in /usr/local/lib/python3.7/dist-packages (from Flask>=0.8->flask-ngrok) (2.11.3)\n",
            "Requirement already satisfied: MarkupSafe>=0.23 in /usr/local/lib/python3.7/dist-packages (from Jinja2<3.0,>=2.10.1->Flask>=0.8->flask-ngrok) (2.0.1)\n",
            "Requirement already satisfied: certifi>=2017.4.17 in /usr/local/lib/python3.7/dist-packages (from requests->flask-ngrok) (2021.10.8)\n",
            "Requirement already satisfied: urllib3!=1.25.0,!=1.25.1,<1.26,>=1.21.1 in /usr/local/lib/python3.7/dist-packages (from requests->flask-ngrok) (1.24.3)\n",
            "Requirement already satisfied: idna<3,>=2.5 in /usr/local/lib/python3.7/dist-packages (from requests->flask-ngrok) (2.10)\n",
            "Requirement already satisfied: chardet<4,>=3.0.2 in /usr/local/lib/python3.7/dist-packages (from requests->flask-ngrok) (3.0.4)\n",
            "Requirement already satisfied: flask-bootstrap in /usr/local/lib/python3.7/dist-packages (3.3.7.1)\n",
            "Requirement already satisfied: dominate in /usr/local/lib/python3.7/dist-packages (from flask-bootstrap) (2.6.0)\n",
            "Requirement already satisfied: visitor in /usr/local/lib/python3.7/dist-packages (from flask-bootstrap) (0.1.3)\n",
            "Requirement already satisfied: Flask>=0.8 in /usr/local/lib/python3.7/dist-packages (from flask-bootstrap) (1.1.4)\n",
            "Requirement already satisfied: Werkzeug<2.0,>=0.15 in /usr/local/lib/python3.7/dist-packages (from Flask>=0.8->flask-bootstrap) (1.0.1)\n",
            "Requirement already satisfied: Jinja2<3.0,>=2.10.1 in /usr/local/lib/python3.7/dist-packages (from Flask>=0.8->flask-bootstrap) (2.11.3)\n",
            "Requirement already satisfied: click<8.0,>=5.1 in /usr/local/lib/python3.7/dist-packages (from Flask>=0.8->flask-bootstrap) (7.1.2)\n",
            "Requirement already satisfied: itsdangerous<2.0,>=0.24 in /usr/local/lib/python3.7/dist-packages (from Flask>=0.8->flask-bootstrap) (1.1.0)\n",
            "Requirement already satisfied: MarkupSafe>=0.23 in /usr/local/lib/python3.7/dist-packages (from Jinja2<3.0,>=2.10.1->Flask>=0.8->flask-bootstrap) (2.0.1)\n"
          ]
        }
      ],
      "source": [
        "!pip install flask-ngrok\n",
        "!pip install flask-bootstrap"
      ]
    },
    {
      "cell_type": "code",
      "source": [
        "!pip install biopython"
      ],
      "metadata": {
        "colab": {
          "base_uri": "https://localhost:8080/"
        },
        "id": "nqIJ8Or3kgpY",
        "outputId": "e35fd552-4b30-4f43-9b88-e0bfb4ac4c8b"
      },
      "execution_count": 12,
      "outputs": [
        {
          "output_type": "stream",
          "name": "stdout",
          "text": [
            "Collecting biopython\n",
            "  Downloading biopython-1.79-cp37-cp37m-manylinux_2_5_x86_64.manylinux1_x86_64.whl (2.3 MB)\n",
            "\u001b[K     |████████████████████████████████| 2.3 MB 5.1 MB/s \n",
            "\u001b[?25hRequirement already satisfied: numpy in /usr/local/lib/python3.7/dist-packages (from biopython) (1.19.5)\n",
            "Installing collected packages: biopython\n",
            "Successfully installed biopython-1.79\n"
          ]
        }
      ]
    },
    {
      "cell_type": "code",
      "source": [
        "# outil clean de chaîne de caracteres\n",
        "\n",
        "def clean_data(x):\n",
        "    chaine = str(x)\n",
        "    chaine = chaine.replace(\"['\",\" \")\n",
        "    chaine = chaine.replace(\"']\",\" \")\n",
        "    chaine = chaine.replace(\"'\",\" \")\n",
        "    return chaine"
      ],
      "metadata": {
        "id": "J5i6kpK-oC3k"
      },
      "execution_count": null,
      "outputs": []
    },
    {
      "cell_type": "code",
      "source": [
        "from Bio import Entrez \n",
        "from Bio import Medline\n",
        "from ..Clean import factor\n",
        "import urllib, urllib.request, urllib.error\n",
        "\n",
        "# def ncbi_conn():\n",
        "#     Entrez.api_key = \"12b30395a61ef72be179af0076899757\"\n",
        "#     Entrez.email = \"sachatorres974@gmail.com\"\n",
        "#     Entrez.tool = \"inca\" \n",
        "    \n",
        "    \n",
        "def Query():\n",
        "    p = \"green tea and neoplasms\"\n",
        "    pq = p + \" \"+\"and Cochrane Database Syst Rev\"\n",
        "    return pq\n",
        "\n",
        "def MetaList(q):\n",
        "    # ncbi_conn()\n",
        "    Entrez.email = \"sachatorres974@gmail.com\"\n",
        "    hend = Entrez.esearch(db=\"pubmed\",term=q)\n",
        "    ret = Entrez.read(hend)\n",
        "    return ret[\"IdList\"]\n",
        "\n",
        "def MetaCount(q):\n",
        "    #ncbi_conn()\n",
        "    Entrez.email = \"sachatorres974@gmail.com\"\n",
        "    hand = Entrez.esearch(db=\"pubmed\",term=q)\n",
        "    rec = Entrez.read(hand)\n",
        "    return rec[\"Count\"]\n",
        "\n",
        "def FetchIdList(ids):\n",
        "    # ncbi_conn()\n",
        "    Entrez.email = \"sachatorres974@gmail.com\"\n",
        "    handle = Entrez.efetch(db=\"pubmed\",id=ids,rettype=\"medline\",retmode=\"text\")\n",
        "    record = Medline.parse(handle)\n",
        "    return record\n",
        "    #code jinja pour la liste des données dans le dictionnaire\n",
        "    #for re in record:\n",
        "    #    titre : re[\"TI\"]\n",
        "    #   r = clean_data(re[\"FAU\"])\n",
        "    #    auteurs : r\n",
        "\n",
        "def Efetch(idl):\n",
        "    # ncbi_conn()\n",
        "    for re in FetchIdList(idl):\n",
        "        print(\"Title : \",re[\"TI\"])\n",
        "        print(\"PMID : \",re[\"PMID\"]+\", \",end=\"\")\n",
        "        print(\"NLM identifier : \",re[\"JID\"]+\", \",end=\"\")\n",
        "        try:\n",
        "             print(\"other identifier : \",re[\"OID\"],end=\"\")\n",
        "        except KeyError :\n",
        "             print(\"Other identifier : none \")\n",
        "        r = clean_data(re[\"FAU\"])\n",
        "        print(\"Authors : \",r)\n",
        "        mh = clean_data(re[\"MH\"])\n",
        "        print(\"MesH terms:\")\n",
        "        print(mh)\n",
        "        try :\n",
        "            print(\"Key Words: \",re[\"OT\"])\n",
        "        except KeyError:\n",
        "            print(\"Key Words: none \")\n",
        "        try:\n",
        "            print(\"Publication source :\",\"  \",re[\"SO\"]) \n",
        "        except KeyError:\n",
        "            print(\"Publication source : none\")\n",
        "        dt = clean_data(re[\"CRDT\"])    \n",
        "        print(\"Create Date : \",dt)\n",
        "        revdt = clean_date(re[\"LR\"])\n",
        "        print(\"Revision Date :\",revdt)\n",
        "        print(\" \")"
      ],
      "metadata": {
        "id": "lLvGgMmsnp4W"
      },
      "execution_count": null,
      "outputs": []
    },
    {
      "cell_type": "code",
      "source": [
        "# main app inca"
      ],
      "metadata": {
        "id": "EPuBcsecnuSc"
      },
      "execution_count": 16,
      "outputs": []
    },
    {
      "cell_type": "code",
      "source": [
        "from flask_ngrok import run_with_ngrok\n",
        "from flask import Flask, render_template , request \n",
        "import os\n",
        "from google.colab import drive\n",
        "drive.mount('/content/testapp')\n",
        "CON_FOLDER = os.path.join('content/testapp','Connexion')\n",
        "app = Flask(__name__,template_folder='/content/testapp/static')\n",
        "app.config['UPLOAD_FOLDER'] = CON_FOLDER\n",
        "run_with_ngrok(app)\n",
        "\n",
        "\n",
        "from flask import Flask,render_template,request,url_for\n",
        "import json\n",
        "from Bio import Entrez\n",
        "app = Flask(__name__)\n",
        "#app.config.from_object('Config')\n",
        "\n",
        "@app.route(\"/\")\n",
        "def index():\n",
        "    links=[\"www.inmcancer.fr\",\"www.niri.fr\",\"www.nishare.fr\"]    \n",
        "    return render_template('index.html', links=links)\n",
        "\n",
        "@app.route(\"/selection\")\n",
        "def selection():\n",
        "    query = str(Query())\n",
        "    count = MetaCount(query)\n",
        "    return render_template('search.html', query=query, count=count)#,results=results)\n",
        "\n",
        "@app.route(\"/selection_result\")\n",
        "def selection_result():\n",
        "    query = str(Query())\n",
        "    list_ids = MetaList(query)\n",
        "    results=FetchIdList(list_ids)\n",
        "    return render_template('search_result.html',list_ids=list_ids,results=results)\n",
        "\n",
        "@app.route(\"/proposition/\")\n",
        "def proposition():\n",
        "    return render_template('proposition.html')\n",
        "\n",
        "@app.route(\"/validation/\")\n",
        "def validate():           \n",
        "    return render_template('validate.html')\n",
        "\n",
        "@app.route(\"/divers/\")\n",
        "def   divers():\n",
        "    return  render_template('divers.html')\n",
        "\n",
        "\n",
        "if __name__ == '__main__':\n",
        "  app.run()"
      ],
      "metadata": {
        "colab": {
          "base_uri": "https://localhost:8080/",
          "height": 419
        },
        "id": "mKjZwh1i0xXI",
        "outputId": "f4df4698-ebfb-486f-e48c-4ac80e29ba98"
      },
      "execution_count": 15,
      "outputs": [
        {
          "output_type": "stream",
          "name": "stdout",
          "text": [
            "Drive already mounted at /content/testapp; to attempt to forcibly remount, call drive.mount(\"/content/testapp\", force_remount=True).\n"
          ]
        },
        {
          "output_type": "error",
          "ename": "ModuleNotFoundError",
          "evalue": "ignored",
          "traceback": [
            "\u001b[0;31m---------------------------------------------------------------------------\u001b[0m",
            "\u001b[0;31mModuleNotFoundError\u001b[0m                       Traceback (most recent call last)",
            "\u001b[0;32m<ipython-input-15-7a8fe5af4deb>\u001b[0m in \u001b[0;36m<module>\u001b[0;34m()\u001b[0m\n\u001b[1;32m     13\u001b[0m \u001b[0;32mimport\u001b[0m \u001b[0mjson\u001b[0m\u001b[0;34m\u001b[0m\u001b[0;34m\u001b[0m\u001b[0m\n\u001b[1;32m     14\u001b[0m \u001b[0;32mfrom\u001b[0m \u001b[0mBio\u001b[0m \u001b[0;32mimport\u001b[0m \u001b[0mEntrez\u001b[0m\u001b[0;34m\u001b[0m\u001b[0;34m\u001b[0m\u001b[0m\n\u001b[0;32m---> 15\u001b[0;31m \u001b[0;32mfrom\u001b[0m \u001b[0mConnexion\u001b[0m\u001b[0;34m.\u001b[0m\u001b[0mentrez\u001b[0m \u001b[0;32mimport\u001b[0m \u001b[0mQuery\u001b[0m\u001b[0;34m,\u001b[0m \u001b[0mMetaCount\u001b[0m\u001b[0;34m,\u001b[0m \u001b[0mMetaList\u001b[0m\u001b[0;34m,\u001b[0m \u001b[0mFetchIdList\u001b[0m\u001b[0;34m\u001b[0m\u001b[0;34m\u001b[0m\u001b[0m\n\u001b[0m\u001b[1;32m     16\u001b[0m \u001b[0mapp\u001b[0m \u001b[0;34m=\u001b[0m \u001b[0mFlask\u001b[0m\u001b[0;34m(\u001b[0m\u001b[0m__name__\u001b[0m\u001b[0;34m)\u001b[0m\u001b[0;34m\u001b[0m\u001b[0;34m\u001b[0m\u001b[0m\n\u001b[1;32m     17\u001b[0m \u001b[0;31m#app.config.from_object('Config')\u001b[0m\u001b[0;34m\u001b[0m\u001b[0;34m\u001b[0m\u001b[0;34m\u001b[0m\u001b[0m\n",
            "\u001b[0;31mModuleNotFoundError\u001b[0m: No module named 'Connexion'",
            "",
            "\u001b[0;31m---------------------------------------------------------------------------\u001b[0;32m\nNOTE: If your import is failing due to a missing package, you can\nmanually install dependencies using either !pip or !apt.\n\nTo view examples of installing some common dependencies, click the\n\"Open Examples\" button below.\n\u001b[0;31m---------------------------------------------------------------------------\u001b[0m\n"
          ],
          "errorDetails": {
            "actions": [
              {
                "action": "open_url",
                "actionText": "Open Examples",
                "url": "/notebooks/snippets/importing_libraries.ipynb"
              }
            ]
          }
        }
      ]
    },
    {
      "cell_type": "code",
      "source": [
        ""
      ],
      "metadata": {
        "id": "n0s562KAnndI"
      },
      "execution_count": null,
      "outputs": []
    }
  ]
}